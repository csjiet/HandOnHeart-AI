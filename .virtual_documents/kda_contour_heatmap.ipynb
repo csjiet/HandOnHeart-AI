import os
import matplotlib.pyplot as plt
import sys
sys.path.append('./hand_tracker.py')

import hand_tracker as ht


selected_landmarks = {
    ht.CopyHandLandmark.WRIST: True,
    
    ht.CopyHandLandmark.THUMB_CMC: True,
    ht.CopyHandLandmark.THUMB_MCP: True,
    ht.CopyHandLandmark.THUMB_IP: True,
    ht.CopyHandLandmark.THUMB_TIP: True, 
    
    ht.CopyHandLandmark.INDEX_FINGER_MCP: True,
    ht.CopyHandLandmark.INDEX_FINGER_PIP: True,
    ht.CopyHandLandmark.INDEX_FINGER_DIP: True,
    ht.CopyHandLandmark.INDEX_FINGER_TIP: True, 
    
    ht.CopyHandLandmark.MIDDLE_FINGER_MCP: True,
    ht.CopyHandLandmark.MIDDLE_FINGER_PIP: True,
    ht.CopyHandLandmark.MIDDLE_FINGER_DIP: True,
    ht.CopyHandLandmark.MIDDLE_FINGER_TIP: True, 
    
    ht.CopyHandLandmark.RING_FINGER_MCP: True,
    ht.CopyHandLandmark.RING_FINGER_PIP: True,
    ht.CopyHandLandmark.RING_FINGER_DIP: True,
    ht.CopyHandLandmark.RING_FINGER_TIP: True, 
    
    ht.CopyHandLandmark.PINKY_MCP: True,
    ht.CopyHandLandmark.PINKY_PIP: True,
    ht.CopyHandLandmark.PINKY_DIP: True,
    ht.CopyHandLandmark.PINKY_TIP: True 
}

VIDEO_DIR= "./sliced_frames"


ht.extract_hand_features(VIDEO_DIR, selected_landmarks)



