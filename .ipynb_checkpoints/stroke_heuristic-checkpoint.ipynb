{
 "cells": [
  {
   "cell_type": "code",
   "execution_count": 1,
   "id": "6ae324ed-8a9c-42b9-b6e4-827cc338b4a0",
   "metadata": {},
   "outputs": [],
   "source": [
    "import os\n",
    "import matplotlib.pyplot as plt\n",
    "import sys\n",
    "import pandas as pd\n",
    "import numpy as np\n",
    "from pprint import pprint\n",
    "from matplotlib.offsetbox import OffsetImage, AnnotationBbox\n",
    "from PIL import Image\n",
    "from scipy.stats import gaussian_kde\n",
    "sys.path.append('./hand_tracker.py')\n",
    "\n",
    "import hand_tracker as ht"
   ]
  },
  {
   "cell_type": "code",
   "execution_count": 2,
   "id": "1433d3c8-8216-4e1a-82a4-320c3349e9bc",
   "metadata": {},
   "outputs": [],
   "source": [
    "selected_landmarks = {\n",
    "    ht.CopyHandLandmark.WRIST: True,\n",
    "    \n",
    "    ht.CopyHandLandmark.THUMB_CMC: True,\n",
    "    ht.CopyHandLandmark.THUMB_MCP: True,\n",
    "    ht.CopyHandLandmark.THUMB_IP: True,\n",
    "    ht.CopyHandLandmark.THUMB_TIP: True, \n",
    "    \n",
    "    ht.CopyHandLandmark.INDEX_FINGER_MCP: True,\n",
    "    ht.CopyHandLandmark.INDEX_FINGER_PIP: True,\n",
    "    ht.CopyHandLandmark.INDEX_FINGER_DIP: True,\n",
    "    ht.CopyHandLandmark.INDEX_FINGER_TIP: True, \n",
    "    \n",
    "    ht.CopyHandLandmark.MIDDLE_FINGER_MCP: True,\n",
    "    ht.CopyHandLandmark.MIDDLE_FINGER_PIP: True,\n",
    "    ht.CopyHandLandmark.MIDDLE_FINGER_DIP: True,\n",
    "    ht.CopyHandLandmark.MIDDLE_FINGER_TIP: True, \n",
    "    \n",
    "    ht.CopyHandLandmark.RING_FINGER_MCP: True,\n",
    "    ht.CopyHandLandmark.RING_FINGER_PIP: True,\n",
    "    ht.CopyHandLandmark.RING_FINGER_DIP: True,\n",
    "    ht.CopyHandLandmark.RING_FINGER_TIP: True, \n",
    "    \n",
    "    ht.CopyHandLandmark.PINKY_MCP: True,\n",
    "    ht.CopyHandLandmark.PINKY_PIP: True,\n",
    "    ht.CopyHandLandmark.PINKY_DIP: True,\n",
    "    ht.CopyHandLandmark.PINKY_TIP: True \n",
    "}"
   ]
  },
  {
   "cell_type": "code",
   "execution_count": 3,
   "id": "c6e18534-5a29-471a-991a-deec4153d3b3",
   "metadata": {},
   "outputs": [
    {
     "name": "stdout",
     "output_type": "stream",
     "text": [
      "Already exists bruh\n"
     ]
    }
   ],
   "source": [
    "VIDEO_DIR= \"./video_frames/sliced_frames\"\n",
    "\n",
    "output_csv = \"./hand_features.csv\"\n",
    "if os.path.exists(output_csv):\n",
    "    print(f\"Already exists bruh\")\n",
    "else:\n",
    "    # Call the extract_hand_features function if the file does not exist\n",
    "    ht.extract_hand_features(VIDEO_DIR, selected_landmarks, output_csv=output_csv)\n",
    "    \n",
    "# Load the CSV data\n",
    "df_nonstroke = pd.read_csv(output_csv)\n",
    "df_nonstroke = df_nonstroke.dropna()"
   ]
  },
  {
   "cell_type": "code",
   "execution_count": 4,
   "id": "81a09445-71d9-427e-9200-c82a8826993b",
   "metadata": {},
   "outputs": [
    {
     "name": "stdout",
     "output_type": "stream",
     "text": [
      "Already exists bruh\n"
     ]
    }
   ],
   "source": [
    "VIDEO_DIR= \"./video_frames/stroke_frames\"\n",
    "\n",
    "output_csv = \"./stroke_hand_features.csv\"\n",
    "if os.path.exists(output_csv):\n",
    "    print(f\"Already exists bruh\")\n",
    "else:\n",
    "    # Call the extract_hand_features function if the file does not exist\n",
    "    ht.extract_hand_features(VIDEO_DIR, selected_landmarks, output_csv=output_csv)\n",
    "\n",
    "df_stroke = pd.read_csv(output_csv)\n",
    "df_stroke = df_stroke.dropna()"
   ]
  },
  {
   "cell_type": "code",
   "execution_count": 5,
   "id": "189bda6a-4fc1-482e-a333-e39e3c5960b5",
   "metadata": {},
   "outputs": [],
   "source": [
    "def preprocess(df):\n",
    "    def converter_func1(val):\n",
    "        if isinstance(val, str):  # Check if the value is a string\n",
    "            coord_tuple = tuple(map(int, val.strip(\"()\").split(\",\")))\n",
    "            return np.array(coord_tuple)\n",
    "    \n",
    "    all_coordinates = []\n",
    "    for col in df.columns:\n",
    "        if col != \"frame\":\n",
    "            df[col] = df[col].apply(converter_func1)  \n",
    "    return df"
   ]
  },
  {
   "cell_type": "code",
   "execution_count": 6,
   "id": "9f06a803-b3ef-4ab8-b2be-256d4efcff9f",
   "metadata": {},
   "outputs": [],
   "source": [
    "df_nonstroke = preprocess(df_nonstroke.copy())"
   ]
  },
  {
   "cell_type": "code",
   "execution_count": 7,
   "id": "60c1dffb-a45c-4d62-bd46-0f6ac4de61a9",
   "metadata": {},
   "outputs": [],
   "source": [
    "df_stroke = preprocess(df_stroke.copy())"
   ]
  },
  {
   "cell_type": "markdown",
   "id": "52ca34e0-e1f7-49da-b708-565d0f17d015",
   "metadata": {},
   "source": [
    "# Proxy score for \"movement expressiveness\""
   ]
  },
  {
   "cell_type": "code",
   "execution_count": 8,
   "id": "a2cbd14b-abff-4b96-8307-afc849c3c9a2",
   "metadata": {},
   "outputs": [],
   "source": [
    "def proxy_score(df):\n",
    "    avg_distances = {}\n",
    "    for col in df.columns:\n",
    "        if col != \"frame\":\n",
    "            # Extract all coordinate arrays for this column into a numpy array of shape (num_frames, 2)\n",
    "            coords = np.stack(df[col].values, axis=0)  \n",
    "            \n",
    "            diffs = coords[1:] - coords[:-1]\n",
    "            \n",
    "            # L2 \n",
    "            dists = np.sqrt(np.sum(diffs**2, axis=1))  \n",
    "            \n",
    "            # Mean L2 \n",
    "            avg_distance = dists.mean() if len(dists) > 0 else 0.0\n",
    "            \n",
    "            avg_distances[col] = avg_distance\n",
    "    return sum(avg_distances.values())"
   ]
  },
  {
   "cell_type": "code",
   "execution_count": 9,
   "id": "471ff344-06fa-46bc-8ff0-5a2de09dae81",
   "metadata": {},
   "outputs": [
    {
     "name": "stdout",
     "output_type": "stream",
     "text": [
      "non-stroke patient's expressiveness score: 508.3276178073399\n"
     ]
    }
   ],
   "source": [
    "print(f\"non-stroke patient's expressiveness score: {proxy_score(df_nonstroke.copy())}\")"
   ]
  },
  {
   "cell_type": "code",
   "execution_count": 10,
   "id": "d9a144b7-ad13-4038-a4a4-beeacf20c5d3",
   "metadata": {},
   "outputs": [
    {
     "name": "stdout",
     "output_type": "stream",
     "text": [
      "stroke patient's expressiveness score: 42.040214327116196\n"
     ]
    }
   ],
   "source": [
    "print(f\"stroke patient's expressiveness score: {proxy_score(df_stroke.copy())}\")"
   ]
  }
 ],
 "metadata": {
  "kernelspec": {
   "display_name": "Python 3 (ipykernel)",
   "language": "python",
   "name": "python3"
  },
  "language_info": {
   "codemirror_mode": {
    "name": "ipython",
    "version": 3
   },
   "file_extension": ".py",
   "mimetype": "text/x-python",
   "name": "python",
   "nbconvert_exporter": "python",
   "pygments_lexer": "ipython3",
   "version": "3.12.8"
  }
 },
 "nbformat": 4,
 "nbformat_minor": 5
}
